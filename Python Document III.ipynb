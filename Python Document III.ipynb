{
 "cells": [
  {
   "cell_type": "markdown",
   "metadata": {},
   "source": [
    "# Data Collections 2 (Dictionaries, Sets) and Importing Modules"
   ]
  },
  {
   "cell_type": "markdown",
   "metadata": {},
   "source": [
    "## Tasks Today:\n",
    "\n",
    "1) Dictionary <br>\n",
    " &nbsp;&nbsp;&nbsp;&nbsp; a) Declaring (key, value) <br>\n",
    " &nbsp;&nbsp;&nbsp;&nbsp; b) Accessing Values <br>\n",
    " &nbsp;&nbsp;&nbsp;&nbsp; ------ Exercise #1 - Print the eye color of each person in a double nested dict <br>\n",
    " &nbsp;&nbsp;&nbsp;&nbsp; c) Adding New Pairs <br>\n",
    " &nbsp;&nbsp;&nbsp;&nbsp; d) Modifying Values <br>\n",
    " &nbsp;&nbsp;&nbsp;&nbsp; e) Removing Key, Value Pairs <br>\n",
    " &nbsp;&nbsp;&nbsp;&nbsp; f) Looping a Dictionary <br>\n",
    " &nbsp;&nbsp;&nbsp;&nbsp; g) Looping Only Keys <br>\n",
    " &nbsp;&nbsp;&nbsp;&nbsp; h) Looping Only Values <br>\n",
    " &nbsp;&nbsp;&nbsp;&nbsp; ------ Exercise #2 - Create a Function that Prints All Key Value Pairs within a print .format()  <br>\n",
    " &nbsp;&nbsp;&nbsp;&nbsp; i) sorted() <br>\n",
    " &nbsp;&nbsp;&nbsp;&nbsp; j) Lists with Dictionaries <br>\n",
    " &nbsp;&nbsp;&nbsp;&nbsp; k) Dictionaries with Lists <br>\n",
    " &nbsp;&nbsp;&nbsp;&nbsp; l) Dictionaries with Dictionaries <br>\n",
    " &nbsp;&nbsp;&nbsp;&nbsp; ------ Exercise #3 - Write a Function that asks someone's name and address, and then stores that into a dictionary, which prints all names and addresses after they're done putting information in...  <br>\n",
    "2) Dictionaries vs. Lists (over time)<br>\n",
    "3) Set <br>\n",
    " &nbsp;&nbsp;&nbsp;&nbsp; a) Declaring <br>\n",
    " &nbsp;&nbsp;&nbsp;&nbsp; b) .add() <br>\n",
    " &nbsp;&nbsp;&nbsp;&nbsp; c) .remove() <br>\n",
    " &nbsp;&nbsp;&nbsp;&nbsp; d) .union() <br>\n",
    " &nbsp;&nbsp;&nbsp;&nbsp; e) .intersection() <br>\n",
    " &nbsp;&nbsp;&nbsp;&nbsp; f) .difference() <br>\n",
    " &nbsp;&nbsp;&nbsp;&nbsp; g) Frozen Set <br>\n",
    "4) Modules <br>\n",
    " &nbsp;&nbsp;&nbsp;&nbsp; a) Importing Entire Modules <br>\n",
    " &nbsp;&nbsp;&nbsp;&nbsp; b) Importing Methods Only <br>\n",
    " &nbsp;&nbsp;&nbsp;&nbsp; c) Using the 'as' Keyword <br>\n",
    " &nbsp;&nbsp;&nbsp;&nbsp; d) Creating a Module <br>\n",
    "5) Exercises <br>\n",
    " &nbsp;&nbsp;&nbsp;&nbsp; a) Build a Shopping Cart <br>\n",
    " &nbsp;&nbsp;&nbsp;&nbsp; b) Create Your Own Module <br>"
   ]
  },
  {
   "cell_type": "markdown",
   "metadata": {},
   "source": [
    "## Dictionary <br>\n",
    "<p>A collection of data with 'key:value' pairs. Dictionaries are ordered as of Python 3.6</p>"
   ]
  },
  {
   "cell_type": "markdown",
   "metadata": {},
   "source": [
    "##### Declaring (key, value)"
   ]
  },
  {
   "cell_type": "code",
   "execution_count": 3,
   "metadata": {},
   "outputs": [
    {
     "name": "stdout",
     "output_type": "stream",
     "text": [
      "{'dave': '255 main Street', 'sean': '522 1st Street', 0: 'This is a value for the key of 0'}\n"
     ]
    }
   ],
   "source": [
    "# Keys should be unique\n",
    "# Can use numbers or strings as keys\n",
    "\n",
    "dict_1 = {}\n",
    "\n",
    "# OR\n",
    "\n",
    "dict_2 = dict()\n",
    "\n",
    "# With data\n",
    "\n",
    "dict_3 = {\n",
    "    'dave' : '255 main Street',\n",
    "    'sean' : '522 1st Street',\n",
    "    0 : 'This is a value for the key of 0',\n",
    "}\n",
    "print(dict_3)"
   ]
  },
  {
   "cell_type": "markdown",
   "metadata": {},
   "source": [
    "##### Accessing Values"
   ]
  },
  {
   "cell_type": "code",
   "execution_count": 9,
   "metadata": {},
   "outputs": [
    {
     "name": "stdout",
     "output_type": "stream",
     "text": [
      "This is a value for the key of 0\n"
     ]
    }
   ],
   "source": [
    "# dict[key]\n",
    "# ^ This returns the value\n",
    "\n",
    "dict_3['dave']\n",
    "print(dict_3[0])"
   ]
  },
  {
   "cell_type": "markdown",
   "metadata": {},
   "source": [
    "## In-Class Exercise #1 - Print a formatted statement from the dictionary below <br>\n",
    "<p>The output should be '2018 Chevrolet Silverado'</p>"
   ]
  },
  {
   "cell_type": "code",
   "execution_count": 36,
   "metadata": {},
   "outputs": [
    {
     "name": "stdout",
     "output_type": "stream",
     "text": [
      "My favorite truck is a 2018 Chevrolet Silverado\n"
     ]
    }
   ],
   "source": [
    "# use the dict below\n",
    "truck = {\n",
    "    'year': 2018,\n",
    "    'make': 'Chevrolet',\n",
    "    'model': 'Silverado'\n",
    "}\n",
    "print(f\"My favorite truck is a {truck['year']} {truck['make']} {truck['model']}\")"
   ]
  },
  {
   "cell_type": "markdown",
   "metadata": {},
   "source": [
    "##### Adding New Pairs"
   ]
  },
  {
   "cell_type": "code",
   "execution_count": 37,
   "metadata": {},
   "outputs": [
    {
     "data": {
      "text/plain": [
       "{'dave': '255 main Street',\n",
       " 'sean': '522 1st Street',\n",
       " 0: 'This is a value for the key of 0',\n",
       " 'bob': 'From Ohio'}"
      ]
     },
     "execution_count": 37,
     "metadata": {},
     "output_type": "execute_result"
    }
   ],
   "source": [
    "#dict[key] = value\n",
    "dict_3['bob'] = 'From Ohio'\n",
    "\n",
    "dict_3"
   ]
  },
  {
   "cell_type": "markdown",
   "metadata": {},
   "source": [
    "##### Modifying Values"
   ]
  },
  {
   "cell_type": "code",
   "execution_count": 39,
   "metadata": {},
   "outputs": [
    {
     "data": {
      "text/plain": [
       "{'dave': '255 main Street',\n",
       " 'sean': '522 1st Street',\n",
       " 0: 'This is a value for the key of 0',\n",
       " 'bob': 'Nashville'}"
      ]
     },
     "execution_count": 39,
     "metadata": {},
     "output_type": "execute_result"
    }
   ],
   "source": [
    "# dict[key] = value\n",
    "dict_3['bob'] = 'Nashville'\n",
    "\n",
    "dict_3\n"
   ]
  },
  {
   "cell_type": "markdown",
   "metadata": {},
   "source": [
    "##### Removing Key, Value Pairs"
   ]
  },
  {
   "cell_type": "code",
   "execution_count": 40,
   "metadata": {},
   "outputs": [
    {
     "data": {
      "text/plain": [
       "{'dave': '255 main Street',\n",
       " 'sean': '522 1st Street',\n",
       " 0: 'This is a value for the key of 0'}"
      ]
     },
     "execution_count": 40,
     "metadata": {},
     "output_type": "execute_result"
    }
   ],
   "source": [
    "#del dict['key']\n",
    "\n",
    "del dict_3['bob']\n",
    "\n",
    "dict_3"
   ]
  },
  {
   "cell_type": "markdown",
   "metadata": {},
   "source": [
    "##### Looping a Dictionary"
   ]
  },
  {
   "cell_type": "code",
   "execution_count": 42,
   "metadata": {},
   "outputs": [
    {
     "name": "stdout",
     "output_type": "stream",
     "text": [
      "dave 255 main Street\n",
      "sean 522 1st Street\n",
      "0 This is a value for the key of 0\n"
     ]
    }
   ],
   "source": [
    "# .items()\n",
    "\n",
    "for key, value in dict_3.items():\n",
    "    print(key,value)"
   ]
  },
  {
   "cell_type": "markdown",
   "metadata": {},
   "source": [
    "##### Looping Only Keys"
   ]
  },
  {
   "cell_type": "code",
   "execution_count": 43,
   "metadata": {},
   "outputs": [
    {
     "name": "stdout",
     "output_type": "stream",
     "text": [
      "dave\n",
      "sean\n",
      "0\n"
     ]
    }
   ],
   "source": [
    "# .keys()\n",
    "for key in dict_3.keys():\n",
    "    print(key)\n"
   ]
  },
  {
   "cell_type": "markdown",
   "metadata": {},
   "source": [
    "##### Looping Only Values"
   ]
  },
  {
   "cell_type": "code",
   "execution_count": 44,
   "metadata": {},
   "outputs": [
    {
     "name": "stdout",
     "output_type": "stream",
     "text": [
      "255 main Street\n",
      "522 1st Street\n",
      "This is a value for the key of 0\n"
     ]
    }
   ],
   "source": [
    "# .values()\n",
    "\n",
    "for value in dict_3.values():\n",
    "    print(value)"
   ]
  },
  {
   "cell_type": "markdown",
   "metadata": {},
   "source": [
    "## In-Class Exercise #2 - Create a Function that Prints All Key Value Pairs within a print .format() <br>\n",
    "<p><b>Output should be:</b><br>\n",
    "Max has blue eyes<br>\n",
    "Lilly has brown eyes<br>\n",
    "Barney has blue eyes<br>\n",
    "etc.\n",
    "</p>"
   ]
  },
  {
   "cell_type": "code",
   "execution_count": 48,
   "metadata": {},
   "outputs": [
    {
     "name": "stdout",
     "output_type": "stream",
     "text": [
      "Max has blue eyes\n",
      "Lilly has brown eyes\n",
      "Barney has blue eyes\n",
      "Larney has brown eyes\n",
      "Ted has purple eyes\n"
     ]
    }
   ],
   "source": [
    "# use the dict below\n",
    "\n",
    "people = {\n",
    "    'Max': 'blue',\n",
    "    'Lilly': 'brown',\n",
    "    'Barney': 'blue',\n",
    "    'Larney': 'brown',\n",
    "    'Ted': 'purple'\n",
    "}\n",
    "for key, value in people.items():\n",
    "    print(f\"{key} has {value} eyes\")\n"
   ]
  },
  {
   "cell_type": "markdown",
   "metadata": {},
   "source": [
    "##### sorted()"
   ]
  },
  {
   "cell_type": "code",
   "execution_count": 53,
   "metadata": {},
   "outputs": [
    {
     "name": "stdout",
     "output_type": "stream",
     "text": [
      "[('Barney', 'blue'), ('Larney', 'brown'), ('Lilly', 'brown'), ('Max', 'blue'), ('Ted', 'purple')]\n",
      "['Barney', 'Larney', 'Lilly', 'Max', 'Ted']\n",
      "['blue', 'blue', 'brown', 'brown', 'purple']\n",
      "['blue', 'blue', 'brown', 'brown', 'purple']\n"
     ]
    }
   ],
   "source": [
    "# sorts variables in order\n",
    "# sorted(dict.values()) or dict.keys() or dict.items()\n",
    "\n",
    "print(sorted(people.items()))\n",
    "print(sorted(people.keys()))\n",
    "print(sorted(people.values()))\n",
    "\n",
    "new_variable = sorted(people.values())\n",
    "print(new_variable)"
   ]
  },
  {
   "cell_type": "markdown",
   "metadata": {},
   "source": [
    "##### List with Dictionaries"
   ]
  },
  {
   "cell_type": "code",
   "execution_count": 56,
   "metadata": {},
   "outputs": [
    {
     "name": "stdout",
     "output_type": "stream",
     "text": [
      "Barbara\n",
      "random_guy\n",
      "random_girl\n"
     ]
    }
   ],
   "source": [
    "names = [\"Dave\", \"Randy\", \"Greg\", {\"random_guy\" : \"Robert\", \"random_girl\": \"Barbara\"}]\n",
    "\n",
    "print(names[3][\"random_girl\"])\n",
    "\n",
    "# Get all the keys from a nested dictionary in a list\n",
    "for keys in names[3].keys():\n",
    "    print(keys)"
   ]
  },
  {
   "cell_type": "markdown",
   "metadata": {},
   "source": [
    "##### Dictionaries with Lists"
   ]
  },
  {
   "cell_type": "code",
   "execution_count": 63,
   "metadata": {},
   "outputs": [
    {
     "name": "stdout",
     "output_type": "stream",
     "text": [
      "smith\n",
      "ipod\n",
      "water bottle\n"
     ]
    }
   ],
   "source": [
    "# be careful when using numbers as keys in dictionaries, don't confuse them with indexes\n",
    "\n",
    "# random_dict = {\n",
    "#     0: 'Zero',\n",
    "#     3: 'One',\n",
    "#     17: 'Two',\n",
    "#     2: 'Three'\n",
    "# }\n",
    "\n",
    "# random_dict[3]\n",
    "random_data = {\n",
    "    'list': [54, 7, 11],\n",
    "    '2': ['smith', 'ipod', 'water bottle'],\n",
    "}\n",
    "for key in random_data['2']:\n",
    "    print(key)"
   ]
  },
  {
   "cell_type": "markdown",
   "metadata": {},
   "source": [
    "##### Dictionaries with Dictionaries"
   ]
  },
  {
   "cell_type": "code",
   "execution_count": 67,
   "metadata": {},
   "outputs": [
    {
     "name": "stdout",
     "output_type": "stream",
     "text": [
      "3.99\n",
      "('CHO', 2.99)\n",
      "('VA', 3.99)\n",
      "('Oreo', 5.99)\n",
      "('PB', 6.99)\n"
     ]
    }
   ],
   "source": [
    "# to get values, must traverse through keys\n",
    "food_dict = {\n",
    "    'ice_cream': {\n",
    "        \"CHO\": 2.99,\n",
    "        \"VA\": 3.99,\n",
    "        \"Oreo\": 5.99,\n",
    "        \"PB\": 6.99,\n",
    "    }\n",
    "}\n",
    "\n",
    "print(food_dict['ice_cream']['VA'])\n",
    "\n",
    "for i in food_dict['ice_cream'].items():\n",
    "    print(i)\n",
    "    "
   ]
  },
  {
   "cell_type": "markdown",
   "metadata": {},
   "source": [
    "## Dictionaries vs. Lists (over time) Example of RUNTIME\n",
    "### When inputting values in a Dictionary vs List"
   ]
  },
  {
   "cell_type": "code",
   "execution_count": 94,
   "metadata": {},
   "outputs": [],
   "source": [
    "import time\n",
    "\n",
    "\n",
    "# generate fake dictionary\n",
    "d = {}\n",
    "\n",
    "for i in range(10000000):\n",
    "    d[i] = 'value'\n",
    "    \n",
    "\n",
    "# generate fake list\n",
    "big_list = [x for x in range(10000000)]"
   ]
  },
  {
   "cell_type": "code",
   "execution_count": 95,
   "metadata": {},
   "outputs": [
    {
     "name": "stdout",
     "output_type": "stream",
     "text": [
      "value\n",
      "Elapsed time for dictionary: 0.0017421245574951172\n",
      "9999999\n",
      "Elapsed time for list: 0.521496057510376\n"
     ]
    }
   ],
   "source": [
    "# tracking time for dictionary\n",
    "start_time = time.time()\n",
    "\n",
    "print(d[9999999])\n",
    "\n",
    "end_time = time.time() - start_time\n",
    "\n",
    "print('Elapsed time for dictionary: {}'.format(end_time))\n",
    "\n",
    "\n",
    "# tracking time for list\n",
    "start_time = time.time()\n",
    "\n",
    "for i in range(len(big_list)):\n",
    "    if i == 9999999:\n",
    "        print(i)\n",
    "\n",
    "end_time = time.time() - start_time\n",
    "\n",
    "print('Elapsed time for list: {}'.format(end_time))"
   ]
  },
  {
   "cell_type": "markdown",
   "metadata": {},
   "source": [
    "## Exercise #3 - Write a Function that asks someone's name and address, and then stores that into a dictionary, and continues to do so until they choose to 'quit'. Once they quit, the program should print all names and addresses. <br>\n",
    "<p>\n",
    "<b>Proper steps:</b><br>\n",
    "step 1: write a function that takes in information and stores it in a dictionary<br>\n",
    "step 2: define an empty dictionary to work with<br>\n",
    "step 3: create our loop, which asks the user for information until they quit<br>\n",
    "step 4: ask for the information, and store it into variables<br>\n",
    "step 5: check if the user types quit<br>\n",
    "step 5a: print out all information<br>\n",
    "step 5b: break out of the loop<br>\n",
    "step 6: if they didn't quit, add the information to the dictionary<br>\n",
    "step 7: invoke the function by calling it\n",
    "</p>"
   ]
  },
  {
   "cell_type": "code",
   "execution_count": null,
   "metadata": {},
   "outputs": [
    {
     "name": "stdout",
     "output_type": "stream",
     "text": [
      "ENTER NAME and ADDRESSES. TYPE QUIT to FINISH!\n"
     ]
    }
   ],
   "source": [
    "from IPython.display import clear_output\n",
    "def fill_dict(val1, val2):\n",
    "    test_dictionary.update({val1:val2})\n",
    "    \n",
    "\n",
    "\n",
    "def get_info():\n",
    "    print(\"ENTER NAME and ADDRESSES. TYPE QUIT to FINISH!\")\n",
    "    inp1 = \"\"\n",
    "    inp2 = \"\"\n",
    "    while inp1 !=\"quit\":\n",
    "        inp1= \"\"\n",
    "        inp2 = \"\"\n",
    "        inp1= input(\"Name?\")\n",
    "        if inp1 == 'quit':\n",
    "            break\n",
    "        inp2 = input (\"Address?\")\n",
    "        if inp2 == 'quit':\n",
    "            break\n",
    "        fill_dict(inp1, inp2)\n",
    "        \n",
    "test_dictionary = {}\n",
    "        \n",
    "get_info()\n",
    "for key,value in test_dictionary.items():\n",
    "    print(\"NAME\", key, \" -- ADDRESS\" , value)"
   ]
  },
  {
   "cell_type": "markdown",
   "metadata": {},
   "source": [
    "## Set <br>\n",
    "<p>A Set is an unordered collection data type that is iterable (loop), mutable, and has no duplicate elements.<br>Major advantage is that it is highly optimized in checking if something is in the set, as opposed to checking if something is in a list.</p>"
   ]
  },
  {
   "cell_type": "markdown",
   "metadata": {},
   "source": [
    "##### Declaring"
   ]
  },
  {
   "cell_type": "code",
   "execution_count": 7,
   "metadata": {},
   "outputs": [
    {
     "name": "stdout",
     "output_type": "stream",
     "text": [
      "{1, 4, 6}\n"
     ]
    }
   ],
   "source": [
    "# set() or {}\n",
    "# no order {3, 2, 1} outputs as {1, 2, 3}\n",
    "nums = {4,1,6,4}\n",
    "\n",
    "print(nums)"
   ]
  },
  {
   "cell_type": "markdown",
   "metadata": {},
   "source": [
    "##### .add()"
   ]
  },
  {
   "cell_type": "code",
   "execution_count": 9,
   "metadata": {},
   "outputs": [
    {
     "name": "stdout",
     "output_type": "stream",
     "text": [
      "{56, 1, 4, 6}\n"
     ]
    }
   ],
   "source": [
    "# set.add()\n",
    "nums.add(56)\n",
    "print(nums)"
   ]
  },
  {
   "cell_type": "markdown",
   "metadata": {},
   "source": [
    "##### .remove()"
   ]
  },
  {
   "cell_type": "code",
   "execution_count": 10,
   "metadata": {},
   "outputs": [
    {
     "name": "stdout",
     "output_type": "stream",
     "text": [
      "{1, 4, 6}\n"
     ]
    }
   ],
   "source": [
    "# removes by value\n",
    "# set.remove()\n",
    "# nums.remove(56)\n",
    "\n",
    "nums.remove(56)\n",
    "print(nums)\n"
   ]
  },
  {
   "cell_type": "markdown",
   "metadata": {},
   "source": [
    "##### .union() "
   ]
  },
  {
   "cell_type": "code",
   "execution_count": 12,
   "metadata": {},
   "outputs": [
    {
     "name": "stdout",
     "output_type": "stream",
     "text": [
      "{1, 2, 3, 4, 5, 6}\n",
      "{1, 2, 3, 4, 5, 6}\n"
     ]
    }
   ],
   "source": [
    "# Returns a union of two sets, can also use '|' or set.union(set)\n",
    "# joins all numbers, gets rid of duplicates\n",
    "s1 = {1,2,3,4}\n",
    "s2 = {3,4,5,6}\n",
    "\n",
    "s3 = s1.union(s2)\n",
    "\n",
    "print(s3)\n",
    "\n",
    "# OR\n",
    "\n",
    "s4 = s1 | s2\n",
    "print(s4)"
   ]
  },
  {
   "cell_type": "markdown",
   "metadata": {},
   "source": [
    "##### .intersection()"
   ]
  },
  {
   "cell_type": "code",
   "execution_count": 14,
   "metadata": {},
   "outputs": [
    {
     "name": "stdout",
     "output_type": "stream",
     "text": [
      "{3, 4}\n",
      "{3, 4}\n"
     ]
    }
   ],
   "source": [
    "# Returns an intersection of two sets, can also use '&'\n",
    "# only takes similar elements from both sets\n",
    "\n",
    "s5 = s2 & s1\n",
    "\n",
    "print(s5)\n",
    "\n",
    "# OR\n",
    "\n",
    "s6 = s1.intersection(s2)\n",
    "print(s6)"
   ]
  },
  {
   "cell_type": "markdown",
   "metadata": {},
   "source": [
    "##### .difference()"
   ]
  },
  {
   "cell_type": "code",
   "execution_count": 15,
   "metadata": {},
   "outputs": [
    {
     "name": "stdout",
     "output_type": "stream",
     "text": [
      "{1, 2, 3, 4}\n",
      "{3, 4, 5, 6}\n",
      "{5, 6}\n",
      "{1, 2}\n"
     ]
    }
   ],
   "source": [
    "# Returns a set containing all the elements of invoking set that are not in the second set, can also use '-'\n",
    "# only takes values from the first set that are not in the second set\n",
    "# order matters\n",
    "s7 = s2 - s1\n",
    "\n",
    "# OR \n",
    "\n",
    "s8 = s1.difference(s2)\n",
    "\n",
    "print(s1)\n",
    "print(s2)\n",
    "print(s7)\n",
    "print(s8)\n",
    "\n"
   ]
  },
  {
   "cell_type": "markdown",
   "metadata": {},
   "source": [
    "##### .clear()"
   ]
  },
  {
   "cell_type": "code",
   "execution_count": 16,
   "metadata": {},
   "outputs": [
    {
     "name": "stdout",
     "output_type": "stream",
     "text": [
      "set()\n"
     ]
    }
   ],
   "source": [
    "# Empties the whole set\n",
    "# set.clear()\n",
    "s8.clear()\n",
    "print(s8)"
   ]
  },
  {
   "cell_type": "markdown",
   "metadata": {},
   "source": [
    "##### Frozenset <br>\n",
    "<p>Frozen sets are immutable objects that only support methods and operators that produce a result without affecting the frozen set or sets to which they are applied.</p><br><b>Unique & Immutable</b>"
   ]
  },
  {
   "cell_type": "code",
   "execution_count": 21,
   "metadata": {},
   "outputs": [
    {
     "name": "stdout",
     "output_type": "stream",
     "text": [
      "frozenset({1, 2, 3, 4, 5, 6, 56})\n"
     ]
    }
   ],
   "source": [
    "# frozenset([])\n",
    "s3.add(56)\n",
    "my_frozen_set = frozenset(s3)\n",
    "print(my_frozen_set)"
   ]
  },
  {
   "cell_type": "markdown",
   "metadata": {},
   "source": [
    "## Modules"
   ]
  },
  {
   "cell_type": "markdown",
   "metadata": {},
   "source": [
    "##### Importing Entire Modules"
   ]
  },
  {
   "cell_type": "code",
   "execution_count": 27,
   "metadata": {},
   "outputs": [
    {
     "name": "stdout",
     "output_type": "stream",
     "text": [
      "Help on built-in function floor in module math:\n",
      "\n",
      "floor(x, /)\n",
      "    Return the floor of x as an Integral.\n",
      "    \n",
      "    This is the largest integer <= x.\n",
      "\n"
     ]
    }
   ],
   "source": [
    "# import or from 'xxx' import *\n",
    "# import math\n",
    "import math\n",
    "\n",
    "\n",
    "print(pi)\n",
    "print(floor(pi))"
   ]
  },
  {
   "cell_type": "markdown",
   "metadata": {},
   "source": [
    "##### Importing Methods Only"
   ]
  },
  {
   "cell_type": "code",
   "execution_count": 28,
   "metadata": {},
   "outputs": [
    {
     "name": "stdout",
     "output_type": "stream",
     "text": [
      "3.141592653589793\n"
     ]
    }
   ],
   "source": [
    "# from 'xxx' import 'xxx'\n",
    "# from math import floor\n",
    "\n",
    "from math import floor, pi\n",
    "\n",
    "print(pi)\n"
   ]
  },
  {
   "cell_type": "markdown",
   "metadata": {},
   "source": [
    "##### Using the 'as' Keyword"
   ]
  },
  {
   "cell_type": "code",
   "execution_count": 29,
   "metadata": {},
   "outputs": [
    {
     "name": "stdout",
     "output_type": "stream",
     "text": [
      "3\n"
     ]
    }
   ],
   "source": [
    "# from 'xxx' import 'xxx' as 'xxx' or import 'xxx' as 'xxx'\n",
    "# from math import floor as f\n",
    "from math import floor as f, pi as p\n",
    "\n",
    "print(f(p))"
   ]
  },
  {
   "cell_type": "markdown",
   "metadata": {},
   "source": [
    "##### Creating a Module"
   ]
  },
  {
   "cell_type": "code",
   "execution_count": 34,
   "metadata": {},
   "outputs": [
    {
     "name": "stdout",
     "output_type": "stream",
     "text": [
      "Hello Mr/Ms {name}...we've been waiting for you!\n"
     ]
    }
   ],
   "source": [
    "from module import printName\n",
    "\n",
    "print(module.printName('Jazz'))"
   ]
  },
  {
   "cell_type": "markdown",
   "metadata": {},
   "source": [
    "# Exercises"
   ]
  },
  {
   "cell_type": "markdown",
   "metadata": {},
   "source": [
    "### 1) Build a Shopping Cart <br>\n",
    "<p><b>You can use either lists or dictionaries. The program should have the following capabilities:</b><br><br>\n",
    "1) Takes in input <br>\n",
    "2) Stores user input into a dictionary or list <br>\n",
    "3) The User can add or delete items <br>\n",
    "4) The User can see current shopping list <br>\n",
    "5) The program Loops until user 'quits' <br>\n",
    "6) Upon quiting the program, print out all items in the user's list <br>\n",
    "</p>"
   ]
  },
  {
   "cell_type": "code",
   "execution_count": 91,
   "metadata": {},
   "outputs": [
    {
     "name": "stdout",
     "output_type": "stream",
     "text": [
      "Welcome to your cart!\n",
      "Type the following to complete cart.\n",
      "A to add to cart\n",
      "S to show cart\n",
      "R to remove item\n",
      "Q to quit\n",
      "What would you like to do? A\n",
      "A\n",
      "Type Item to add to Cart!fruit\n",
      "Type the following to complete cart.\n",
      "A to add to cart\n",
      "S to show cart\n",
      "R to remove item\n",
      "Q to quit\n",
      "What would you like to do? veg\n",
      "veg\n",
      "Type the following to complete cart.\n",
      "A to add to cart\n",
      "S to show cart\n",
      "R to remove item\n",
      "Q to quit\n",
      "What would you like to do? A\n",
      "A\n",
      "Type Item to add to Cart!Veg\n",
      "Type the following to complete cart.\n",
      "A to add to cart\n",
      "S to show cart\n",
      "R to remove item\n",
      "Q to quit\n",
      "What would you like to do? R\n",
      "R\n",
      "Enter name of item to remove:\n",
      "fg\n",
      "Item not found in Cart!\n",
      "Item not found in Cart!\n",
      "Type the following to complete cart.\n",
      "A to add to cart\n",
      "S to show cart\n",
      "R to remove item\n",
      "Q to quit\n",
      "What would you like to do? R\n",
      "R\n",
      "Enter name of item to remove:\n",
      "Veg\n",
      "Item not found in Cart!\n",
      "ITEM MATCH\n",
      "Type the following to complete cart.\n",
      "A to add to cart\n",
      "S to show cart\n",
      "R to remove item\n",
      "Q to quit\n",
      "What would you like to do? Q\n",
      "Q\n",
      "fruit\n"
     ]
    }
   ],
   "source": [
    "from IPython.display import clear_output\n",
    "# Ask the user four bits of input: Do you want to : Show/Add/Delete or Quit?\n",
    "shopping_cart = []\n",
    "def cart():\n",
    "    print(\"Welcome to your cart!\")\n",
    "    user=''\n",
    "    while user!='Q':\n",
    "        user=''\n",
    "        print(\"Type the following to complete cart.\")\n",
    "        print(\"A to add to cart\")\n",
    "        print(\"S to show cart\")\n",
    "        print(\"R to remove item\")\n",
    "        print(\"Q to quit\")\n",
    "        user = input(\"What would you like to do? \")\n",
    "        print(user)\n",
    "        \n",
    "            \n",
    "        \n",
    "        if user == 'A':\n",
    "            item = input(\"Type Item to add to Cart!\") \n",
    "            shopping_cart.append(item)\n",
    "            #break\n",
    "        if user == 'S':\n",
    "            print(\"ITEMS IN YOUR CART:\")\n",
    "            for item in shopping_cart:\n",
    "                print(item)\n",
    "        if user == 'R':\n",
    "            string = str(input(\"Enter name of item to remove:\\n\"))\n",
    "            i=0\n",
    "            for item in shopping_cart:\n",
    "                if (item == string):\n",
    "                    print(\"ITEM MATCH\")\n",
    "                    del shopping_cart[shopping_cart.index(item)]\n",
    "                    flag = True\n",
    "                    break\n",
    "                else:\n",
    "                    flag = False\n",
    "                i += 1\n",
    "                if (flag == False):\n",
    "                    print(\"Item not found in Cart!\")\n",
    "        if user == 'Q':\n",
    "            for item in shopping_cart:\n",
    "                print(item)\n",
    "            break\n",
    "        \n",
    "cart()"
   ]
  },
  {
   "cell_type": "markdown",
   "metadata": {},
   "source": [
    "### 2) Create a Module in VS Code and Import It into jupyter notebook <br>\n",
    "<p><b>Module should have the following capabilities:</b><br><br>\n",
    "1) Has a function to calculate the square footage of a house <br>\n",
    "    <b>Reminder of Formula: Length X Width == Area<br>\n",
    "        <hr>\n",
    "2) Has a function to calculate the circumference of a circle <br><br>\n",
    "<b>Program in Jupyter Notebook should take in user input and use imported functions to calculate a circle's circumference or a houses square footage</b>\n",
    "</p>"
   ]
  },
  {
   "cell_type": "code",
   "execution_count": 40,
   "metadata": {},
   "outputs": [
    {
     "name": "stdout",
     "output_type": "stream",
     "text": [
      "Enter length:4\n",
      "Enter Width2\n",
      "Area of House: 8\n",
      "Enter radius:5\n",
      "The circumference is: 31.41592653589793\n"
     ]
    }
   ],
   "source": [
    "from math import pi\n",
    "#length = l\n",
    "#width = w\n",
    "#area = l * w\n",
    "def a_square():\n",
    "    print(\"Calculate Area of House!\")\n",
    "l = int(input(\"Enter length:\"))\n",
    "w = int(input(\"Enter Width\"))\n",
    "area = l * w\n",
    "print(\"Area of House:\", area)\n",
    "\n",
    "# r = radius\n",
    "#cir = 2 * pi * r\n",
    "\n",
    "def circ():\n",
    "    print(\"Calculate circumference of circle!\")\n",
    "r = int(input(\"Enter radius:\"))\n",
    "circumference = 2 * pi * r\n",
    "print(\"The circumference is:\", circumference )\n"
   ]
  },
  {
   "cell_type": "code",
   "execution_count": null,
   "metadata": {},
   "outputs": [],
   "source": []
  }
 ],
 "metadata": {
  "kernelspec": {
   "display_name": "Python 3 (ipykernel)",
   "language": "python",
   "name": "python3"
  },
  "language_info": {
   "codemirror_mode": {
    "name": "ipython",
    "version": 3
   },
   "file_extension": ".py",
   "mimetype": "text/x-python",
   "name": "python",
   "nbconvert_exporter": "python",
   "pygments_lexer": "ipython3",
   "version": "3.9.13"
  }
 },
 "nbformat": 4,
 "nbformat_minor": 2
}
